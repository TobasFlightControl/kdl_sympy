{
 "cells": [
  {
   "cell_type": "code",
   "execution_count": 1,
   "metadata": {},
   "outputs": [],
   "source": [
    "import sympy\n",
    "from IPython.display import display\n",
    "\n",
    "from kdl_sympy.frames import Vector, Frame\n",
    "\n",
    "sympy.init_printing()  # display()でキレイに表示されるようになる"
   ]
  },
  {
   "cell_type": "code",
   "execution_count": 2,
   "metadata": {},
   "outputs": [],
   "source": [
    "# Robot Structure\n",
    "\n",
    "b_x, b_y, b_yaw, q_1, q_2, q_3 = sympy.symbols(r'b_x, b_y, b_\\psi, q_1, q_2, q_3')\n",
    "e_x, e_y, e_z, e_roll, e_pitch, e_yaw = sympy.symbols(r'e_x, e_y, e_z, e_\\phi, e_\\theta, e_\\psi')\n",
    "l_ee = sympy.symbols(r'l_{ee}')\n",
    "\n",
    "T_01 = Frame.TransX(b_x)\n",
    "T_12 = Frame.TransY(b_y)\n",
    "T_23 = Frame.RotZ(b_yaw)\n",
    "T_34 = Frame.TransX(-0.065) * Frame.TransZ(0.49) * Frame.RotY(q_1)\n",
    "T_45 = Frame.TransX(-0.078) * Frame.TransZ(q_2)\n",
    "T_56 = Frame.TransX(0.139) * Frame.RotY(q_3)\n",
    "grip_offset = Vector.TransX(l_ee)"
   ]
  },
  {
   "cell_type": "code",
   "execution_count": 3,
   "metadata": {},
   "outputs": [
    {
     "data": {
      "image/png": "[encoded data removed]",
      "text/latex": [
       "$\\displaystyle b_{x} + l_{ee} \\cos{\\left(b_{\\psi} \\right)} \\cos{\\left(q_{1} + q_{3} \\right)} + q_{2} \\sin{\\left(q_{1} \\right)} \\cos{\\left(b_{\\psi} \\right)} + 0.061 \\cos{\\left(b_{\\psi} \\right)} \\cos{\\left(q_{1} \\right)} - 0.065 \\cos{\\left(b_{\\psi} \\right)}$"
      ],
      "text/plain": [
       "bₓ + l_{ee}⋅cos(b_\\psi)⋅cos(q₁ + q₃) + q₂⋅sin(q₁)⋅cos(b_\\psi) + 0.061⋅cos(b_\\p\n",
       "si)⋅cos(q₁) - 0.065⋅cos(b_\\psi)"
      ]
     },
     "metadata": {},
     "output_type": "display_data"
    },
    {
     "data": {
      "image/png": "[encoded data removed]",
      "text/latex": [
       "$\\displaystyle b_{y} + l_{ee} \\sin{\\left(b_{\\psi} \\right)} \\cos{\\left(q_{1} + q_{3} \\right)} + q_{2} \\sin{\\left(b_{\\psi} \\right)} \\sin{\\left(q_{1} \\right)} + 0.061 \\sin{\\left(b_{\\psi} \\right)} \\cos{\\left(q_{1} \\right)} - 0.065 \\sin{\\left(b_{\\psi} \\right)}$"
      ],
      "text/plain": [
       "b_y + l_{ee}⋅sin(b_\\psi)⋅cos(q₁ + q₃) + q₂⋅sin(b_\\psi)⋅sin(q₁) + 0.061⋅sin(b_\\\n",
       "psi)⋅cos(q₁) - 0.065⋅sin(b_\\psi)"
      ]
     },
     "metadata": {},
     "output_type": "display_data"
    },
    {
     "data": {
      "image/png": "[encoded data removed]",
      "text/latex": [
       "$\\displaystyle - l_{ee} \\sin{\\left(q_{1} + q_{3} \\right)} + q_{2} \\cos{\\left(q_{1} \\right)} - 0.061 \\sin{\\left(q_{1} \\right)} + 0.49$"
      ],
      "text/plain": [
       "-l_{ee}⋅sin(q₁ + q₃) + q₂⋅cos(q₁) - 0.061⋅sin(q₁) + 0.49"
      ]
     },
     "metadata": {},
     "output_type": "display_data"
    },
    {
     "data": {
      "image/png": "[encoded data removed]",
      "text/latex": [
       "$\\displaystyle 0.0$"
      ],
      "text/plain": [
       "0.0"
      ]
     },
     "metadata": {},
     "output_type": "display_data"
    },
    {
     "data": {
      "image/png": "[encoded data removed]",
      "text/latex": [
       "$\\displaystyle q_{1} + q_{3}$"
      ],
      "text/plain": [
       "q₁ + q₃"
      ]
     },
     "metadata": {},
     "output_type": "display_data"
    },
    {
     "data": {
      "image/png": "[encoded data removed]",
      "text/latex": [
       "$\\displaystyle b_{\\psi}$"
      ],
      "text/plain": [
       "b_\\psi"
      ]
     },
     "metadata": {},
     "output_type": "display_data"
    }
   ],
   "source": [
    "# Forward Kinematics\n",
    "\n",
    "e_fk: Vector = T_01 * T_12 * T_23 * T_34 * T_45 * T_56 * grip_offset\n",
    "e_x_fk, e_y_fk, e_z_fk = e_fk.data\n",
    "e_roll_fk = 0.\n",
    "e_pitch_fk = q_1 + q_3\n",
    "e_yaw_fk = b_yaw\n",
    "\n",
    "display(\n",
    "    sympy.simplify(e_x_fk),\n",
    "    sympy.simplify(e_y_fk),\n",
    "    sympy.simplify(e_z_fk),\n",
    "    sympy.simplify(e_roll_fk),\n",
    "    sympy.simplify(e_pitch_fk),\n",
    "    sympy.simplify(e_yaw_fk),\n",
    ")"
   ]
  },
  {
   "cell_type": "code",
   "execution_count": 4,
   "metadata": {},
   "outputs": [],
   "source": [
    "# Inverse Kinematics (自動求解は失敗)\n",
    "\n",
    "eq = [\n",
    "    sympy.Eq(e_x, e_x_fk),\n",
    "    sympy.Eq(e_y, e_y_fk),\n",
    "    sympy.Eq(e_z, e_z_fk),\n",
    "    sympy.Eq(e_roll, e_roll_fk),\n",
    "    sympy.Eq(e_pitch, e_pitch_fk),\n",
    "    sympy.Eq(e_yaw, e_yaw_fk),\n",
    "]\n",
    "\n",
    "# sol = sympy.solve(eq, [b_x, b_y, b_yaw, q_1, q_2, q_3])\n",
    "# display(sol)"
   ]
  }
 ],
 "metadata": {
  "kernelspec": {
   "display_name": "Python 3",
   "language": "python",
   "name": "python3"
  },
  "language_info": {
   "codemirror_mode": {
    "name": "ipython",
    "version": 3
   },
   "file_extension": ".py",
   "mimetype": "text/x-python",
   "name": "python",
   "nbconvert_exporter": "python",
   "pygments_lexer": "ipython3",
   "version": "3.8.10"
  },
  "orig_nbformat": 4,
  "vscode": {
   "interpreter": {
    "hash": "916dbcbb3f70747c44a77c7bcd40155683ae19c65e1c03b4aa3499c5328201f1"
   }
  }
 },
 "nbformat": 4,
 "nbformat_minor": 2
}
